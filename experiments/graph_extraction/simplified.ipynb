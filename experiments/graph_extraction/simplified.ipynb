{
 "cells": [
  {
   "cell_type": "code",
   "execution_count": 1,
   "id": "e74459ab-a8c5-4c4e-81ff-10f10ab08de5",
   "metadata": {},
   "outputs": [],
   "source": [
    "import numpy as np\n",
    "from numpy.random import default_rng\n",
    "import matplotlib.pyplot as plt\n",
    "import networkx as nx\n",
    "import random\n",
    "from skimage.util import view_as_blocks\n",
    "import queue\n",
    "from tqdm.notebook import tqdm\n",
    "from time import sleep\n",
    "import math\n",
    "import random"
   ]
  },
  {
   "cell_type": "code",
   "execution_count": 296,
   "id": "b34d3b78-c644-4e2a-880c-8681f7bded51",
   "metadata": {},
   "outputs": [],
   "source": [
    "N_PROBES = 100\n",
    "N_ITERATIONS = 1000\n",
    "PATCH_SIZE = [64,64]\n",
    "STOCHASTIC_SAMPLING = 0\n",
    "\n",
    "sense_distance = 1.0\n",
    "sense_angle = 2.5\n",
    "step_size = 0.1\n",
    "steering_rate = 0.5"
   ]
  },
  {
   "cell_type": "code",
   "execution_count": 297,
   "id": "7aadde42-0c06-431b-991a-0c0f545eed27",
   "metadata": {},
   "outputs": [
    {
     "name": "stdout",
     "output_type": "stream",
     "text": [
      "Number of probes: 100\n",
      "Patch Size: [64, 64]\n"
     ]
    }
   ],
   "source": [
    "TRACE_PATH = 'trace.npy'\n",
    "\n",
    "print('Number of probes:', N_PROBES)\n",
    "print('Patch Size:', PATCH_SIZE)"
   ]
  },
  {
   "cell_type": "code",
   "execution_count": 313,
   "id": "829b2bfc-3976-4cf1-9971-7fbd6f8d32df",
   "metadata": {},
   "outputs": [],
   "source": [
    "def probe_propogation(TRACE_PATH, N_ITERATIONS, N_PROBES, STOCHASTIC_SAMPLING, PATCH_SIZE, sense_distance, sense_angle, step_size, steering_rate):\n",
    "    TRACE = np.load(TRACE_PATH)\n",
    "    G = nx.Graph()\n",
    "    patch = np.copy(TRACE[0:PATCH_SIZE[0],0:PATCH_SIZE[1],:])\n",
    "    DOMAIN_SIZE = [PATCH_SIZE[0]-1,PATCH_SIZE[1]-1]\n",
    "    \n",
    "    probe_field = np.zeros((N_PROBES, 4))\n",
    "    probe_field[:, 0] = default_rng().uniform(low=0.0, high=DOMAIN_SIZE[0], size=probe_field.shape[0])\n",
    "    probe_field[:, 1] = default_rng().uniform(low=0.0, high=DOMAIN_SIZE[1], size=probe_field.shape[0])\n",
    "    probe_field[:, 2] = default_rng().uniform(low=0.0, high=2.0*np.pi, size=probe_field.shape[0])\n",
    "    probe_field[:, 3] = 1.0\n",
    "    \n",
    "    angle_queue = queue.Queue()\n",
    "    pos_dict = {}\n",
    "    node_id = 0\n",
    "    \n",
    "    def world_to_grid_2D(pos_world, size_world, size_grid):\n",
    "        return (pos_world / size_world) * (size_grid)\n",
    "\n",
    "    def angle_to_dir_2D(angle):\n",
    "        return np.array([math.cos(float(angle)), math.sin(float(angle))])\n",
    "\n",
    "    def custom_mod(a, b):\n",
    "        return (a - b * math.floor(a / b))\n",
    "    \n",
    "    for i in tqdm(range(N_ITERATIONS)):\n",
    "        probe_node_id = node_id\n",
    "        for probe in range(probe_field.shape[0]):\n",
    "            pos1, pos2, angle, weight = probe_field[probe]\n",
    "            pos = [pos1, pos2]\n",
    "            dir_fwd = angle_to_dir_2D(angle)\n",
    "            angle_mut = angle + (random.random() - 0.5) * sense_angle\n",
    "            dir_mut = angle_to_dir_2D(angle_mut)\n",
    "\n",
    "            t_fwd = world_to_grid_2D(pos + sense_distance * dir_fwd, np.array(DOMAIN_SIZE), np.array(DOMAIN_SIZE))\n",
    "            t_mut = world_to_grid_2D(pos + sense_distance * dir_mut, np.array(DOMAIN_SIZE), np.array(DOMAIN_SIZE))\n",
    "            trace_fwd = (patch[t_fwd[0].astype(int)][t_fwd[1].astype(int)][0])\n",
    "            trace_mut = (patch[t_mut[0].astype(int)][t_mut[1].astype(int)][0])\n",
    "\n",
    "            angle_new = 0.0\n",
    "            \n",
    "            if STOCHASTIC_SAMPLING:\n",
    "                if (random.random() < (0.5 * trace_fwd / (trace_fwd + trace_mut))):            \n",
    "                    angle_new = (angle)  \n",
    "                else:\n",
    "                    angle_new = (steering_rate * angle_mut + (1.0-steering_rate) * angle)\n",
    "            else:\n",
    "                if (trace_fwd > trace_mut):\n",
    "                    angle_new = (angle)\n",
    "                else:\n",
    "                    angle_new = (steering_rate * angle_mut + (1.0-steering_rate) * angle)\n",
    "\n",
    "            if(G.number_of_nodes() == 0):\n",
    "                G.add_node(probe_node_id)\n",
    "                angle_queue.put(angle_new)\n",
    "            else:\n",
    "                if abs(angle_new - angle_queue.queue[0]) > 0.26:\n",
    "                    G.add_node(probe_node_id)\n",
    "                    G.add_edge(list(G.nodes())[-1], list(G.nodes())[-2])\n",
    "\n",
    "                    if(angle_queue.qsize() == 3):\n",
    "                        angle_queue.get()\n",
    "                    angle_queue.put(angle_new)\n",
    "\n",
    "            pos_dict[probe_node_id]=(pos1, pos2)\n",
    "            dir_new = angle_to_dir_2D(angle_new)\n",
    "#             dir_new = (angle_to_dir_2D(angle) + angle_to_dir_2D(angle_new)) / 2\n",
    "#             dir_new = np.minimum(angle_to_dir_2D(angle), angle_to_dir_2D(angle_new))\n",
    "            pos_new = pos + step_size * dir_new\n",
    "\n",
    "            pos_new[0] = custom_mod(pos_new[0], DOMAIN_SIZE[0])\n",
    "            pos_new[1] = custom_mod(pos_new[1], DOMAIN_SIZE[1])\n",
    "\n",
    "            probe_field[probe][0] = pos_new[0]\n",
    "            probe_field[probe][1] = pos_new[1]\n",
    "            probe_field[probe][2] = angle_new\n",
    "            probe_node_id = probe_node_id + 1\n",
    "        node_id = node_id + probe_node_id\n",
    "        \n",
    "    patch_underlay = np.rot90(patch[:,:,0])\n",
    "    patch_underlay = np.flipud(patch_underlay)\n",
    "    print(angle_new)\n",
    "    print(angle_queue.queue[0])\n",
    "    return G, patch_underlay, pos_dict"
   ]
  },
  {
   "cell_type": "code",
   "execution_count": 314,
   "id": "ff24cfa6-7cd8-4307-9808-9ff7b4c5cf6c",
   "metadata": {},
   "outputs": [
    {
     "data": {
      "application/vnd.jupyter.widget-view+json": {
       "model_id": "7da8360835a641f19e3769a93639edf9",
       "version_major": 2,
       "version_minor": 0
      },
      "text/plain": [
       "HBox(children=(FloatProgress(value=0.0, max=1000.0), HTML(value='')))"
      ]
     },
     "metadata": {},
     "output_type": "display_data"
    },
    {
     "name": "stdout",
     "output_type": "stream",
     "text": [
      "\n",
      "-26.859083056295013\n",
      "-19.28580121597905\n"
     ]
    }
   ],
   "source": [
    "graph, patch, positions = probe_propogation(TRACE_PATH, N_ITERATIONS, N_PROBES, STOCHASTIC_SAMPLING, PATCH_SIZE, sense_distance, sense_angle, step_size, steering_rate)"
   ]
  },
  {
   "cell_type": "code",
   "execution_count": 315,
   "id": "52385396-d444-42ad-8133-9eb70e00af5d",
   "metadata": {},
   "outputs": [
    {
     "data": {
      "image/png": "[encoded data removed]",
      "text/plain": [
       "<Figure size 432x288 with 1 Axes>"
      ]
     },
     "metadata": {},
     "output_type": "display_data"
    }
   ],
   "source": [
    "plt.imshow(patch)\n",
    "# nx.draw(G, pos=pos_dict,\n",
    "#         arrowstyle='->',\n",
    "#         arrowsize=20,\n",
    "#         width=0.01,\n",
    "#         with_labels=False,\n",
    "#         node_size=0.01,\n",
    "#         node_color='red',\n",
    "#         edge_color='blue')\n",
    "nx.draw_networkx_nodes(graph, pos=positions,\n",
    "        node_size=0.01, \n",
    "        node_color='red')\n",
    "plt.savefig(\"0point5_trace_field.png\", dpi=1000)"
   ]
  },
  {
   "cell_type": "code",
   "execution_count": 226,
   "id": "523dc6b9-f2fb-49ce-8f53-d52be7debba6",
   "metadata": {},
   "outputs": [],
   "source": [
    "angle = 0.15"
   ]
  },
  {
   "cell_type": "code",
   "execution_count": 164,
   "id": "ab05a7a9-8b08-4cf0-9d92-8357d733141d",
   "metadata": {},
   "outputs": [],
   "source": [
    "angle_mut = angle + (random.random() - 0.5) * sense_angle\n",
    "angle_new = (steering_rate * angle_mut + ((1.0-steering_rate) * angle))"
   ]
  },
  {
   "cell_type": "code",
   "execution_count": 165,
   "id": "4970223d-32cb-4687-b28a-2d1a5efb66da",
   "metadata": {},
   "outputs": [
    {
     "data": {
      "text/plain": [
       "-0.4132157292021378"
      ]
     },
     "execution_count": 165,
     "metadata": {},
     "output_type": "execute_result"
    }
   ],
   "source": [
    "angle_new"
   ]
  },
  {
   "cell_type": "code",
   "execution_count": 308,
   "id": "5d906bb8-5f1b-470f-9e2a-f28656c584c1",
   "metadata": {},
   "outputs": [],
   "source": [
    "TRACE = np.load(TRACE_PATH)\n",
    "patch = np.copy(TRACE[0:PATCH_SIZE[0],0:PATCH_SIZE[1],:])\n",
    "\n",
    "DOMAIN_SIZE = [PATCH_SIZE[0]-1,PATCH_SIZE[1]-1]\n",
    "\n",
    "probe_field = np.zeros((N_PROBES, 4))\n",
    "probe_field[:, 0] = default_rng().uniform(low=0.0, high=DOMAIN_SIZE[0], size=probe_field.shape[0])\n",
    "probe_field[:, 1] = default_rng().uniform(low=0.0, high=DOMAIN_SIZE[1], size=probe_field.shape[0])\n",
    "probe_field[:, 2] = default_rng().uniform(low=0.0, high=2.0*np.pi, size=probe_field.shape[0])\n",
    "probe_field[:, 3] = 1.0\n",
    "    \n",
    "\n",
    "def world_to_grid_2D(pos_world, size_world, size_grid):\n",
    "        return (pos_world / size_world) * (size_grid)\n",
    "def angle_to_dir_2D(angle):\n",
    "    return np.array([math.cos(float(angle)), math.sin(float(angle))])\n",
    "\n",
    "pos1, pos2, angle, weight = probe_field[1]\n",
    "pos = [pos1, pos2]\n",
    "dir_fwd = angle_to_dir_2D(angle)\n",
    "angle_mut = angle + (random.random() - 0.5) * sense_angle\n",
    "dir_mut = angle_to_dir_2D(angle_mut)\n",
    "        \n",
    "t_fwd = world_to_grid_2D(pos + sense_distance * dir_fwd, np.array(DOMAIN_SIZE), np.array(DOMAIN_SIZE))\n",
    "t_mut = world_to_grid_2D(pos + sense_distance * dir_mut, np.array(DOMAIN_SIZE), np.array(DOMAIN_SIZE))\n",
    "trace_fwd = 0.5 * (patch[t_fwd[0].astype(int)][t_fwd[1].astype(int)][0])\n",
    "trace_mut = patch[t_mut[0].astype(int)][t_mut[1].astype(int)][0]"
   ]
  },
  {
   "cell_type": "code",
   "execution_count": 309,
   "id": "08a5498a-ac5f-4bfd-b1d8-ef6672f4f652",
   "metadata": {},
   "outputs": [
    {
     "data": {
      "text/plain": [
       "1.5757168531417847"
      ]
     },
     "execution_count": 309,
     "metadata": {},
     "output_type": "execute_result"
    }
   ],
   "source": [
    "trace_fwd"
   ]
  },
  {
   "cell_type": "code",
   "execution_count": 310,
   "id": "f37cb136-86ac-410c-b81e-361283f38b3f",
   "metadata": {},
   "outputs": [
    {
     "data": {
      "text/plain": [
       "5.125086"
      ]
     },
     "execution_count": 310,
     "metadata": {},
     "output_type": "execute_result"
    }
   ],
   "source": [
    "trace_mut"
   ]
  },
  {
   "cell_type": "code",
   "execution_count": 311,
   "id": "338d1d3a-45ca-416c-8f64-e14ae68ee88d",
   "metadata": {},
   "outputs": [
    {
     "data": {
      "text/plain": [
       "0.4703068953049922"
      ]
     },
     "execution_count": 311,
     "metadata": {},
     "output_type": "execute_result"
    }
   ],
   "source": [
    "(2 * trace_fwd) / (trace_fwd + trace_mut)"
   ]
  },
  {
   "cell_type": "code",
   "execution_count": 312,
   "id": "51fe6268-b94e-4cfd-96e5-1eb634874f20",
   "metadata": {},
   "outputs": [
    {
     "data": {
      "text/plain": [
       "0.2351534476524961"
      ]
     },
     "execution_count": 312,
     "metadata": {},
     "output_type": "execute_result"
    }
   ],
   "source": [
    "(1 * trace_fwd) / (trace_fwd + trace_mut)"
   ]
  },
  {
   "cell_type": "code",
   "execution_count": 291,
   "id": "b62d81d9-1947-4cd4-8b4f-6362fe769725",
   "metadata": {},
   "outputs": [
    {
     "data": {
      "text/plain": [
       "array([11.17861386,  0.39287507])"
      ]
     },
     "execution_count": 291,
     "metadata": {},
     "output_type": "execute_result"
    }
   ],
   "source": [
    "t_fwd"
   ]
  },
  {
   "cell_type": "code",
   "execution_count": 292,
   "id": "4a5a2885-e716-4536-ac18-bab52469b1f7",
   "metadata": {},
   "outputs": [
    {
     "data": {
      "text/plain": [
       "array([ 0.37891597, -0.92543108])"
      ]
     },
     "execution_count": 292,
     "metadata": {},
     "output_type": "execute_result"
    }
   ],
   "source": [
    "dir_fwd"
   ]
  },
  {
   "cell_type": "code",
   "execution_count": 293,
   "id": "0e2a1a52-629a-4b0c-857b-4e56740b8590",
   "metadata": {},
   "outputs": [],
   "source": [
    "dir_fwd_2 = np.array([0.1785, -0.3666])"
   ]
  },
  {
   "cell_type": "code",
   "execution_count": 294,
   "id": "960f0760-44e4-4fc8-95e0-e13083769a00",
   "metadata": {},
   "outputs": [
    {
     "data": {
      "text/plain": [
       "array([ 0.1785, -0.3666])"
      ]
     },
     "execution_count": 294,
     "metadata": {},
     "output_type": "execute_result"
    }
   ],
   "source": [
    "dir_fwd_2"
   ]
  },
  {
   "cell_type": "code",
   "execution_count": 295,
   "id": "2fed1b55-8b0e-41ba-b83c-d536858d8e4d",
   "metadata": {},
   "outputs": [
    {
     "data": {
      "text/plain": [
       "array([ 0.27870798, -0.64601554])"
      ]
     },
     "execution_count": 295,
     "metadata": {},
     "output_type": "execute_result"
    }
   ],
   "source": [
    "result = (dir_fwd + dir_fwd_2) / 2\n",
    "result"
   ]
  },
  {
   "cell_type": "code",
   "execution_count": null,
   "id": "2b2e6f57-58e2-41f9-b8d2-3013635bb741",
   "metadata": {},
   "outputs": [],
   "source": []
  }
 ],
 "metadata": {
  "kernelspec": {
   "display_name": "Python 3",
   "language": "python",
   "name": "python3"
  },
  "language_info": {
   "codemirror_mode": {
    "name": "ipython",
    "version": 3
   },
   "file_extension": ".py",
   "mimetype": "text/x-python",
   "name": "python",
   "nbconvert_exporter": "python",
   "pygments_lexer": "ipython3",
   "version": "3.8.8"
  }
 },
 "nbformat": 4,
 "nbformat_minor": 5
}
