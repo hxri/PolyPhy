{
 "cells": [
  {
   "cell_type": "code",
   "execution_count": 108,
   "id": "e74459ab-a8c5-4c4e-81ff-10f10ab08de5",
   "metadata": {},
   "outputs": [],
   "source": [
    "import numpy as np\n",
    "from numpy.random import default_rng\n",
    "import matplotlib.pyplot as plt\n",
    "import networkx as nx\n",
    "import random\n",
    "from skimage.util import view_as_blocks"
   ]
  },
  {
   "cell_type": "code",
   "execution_count": 183,
   "id": "b34d3b78-c644-4e2a-880c-8681f7bded51",
   "metadata": {},
   "outputs": [
    {
     "name": "stdout",
     "output_type": "stream",
     "text": [
      "Number of agents: 100\n",
      "Patch Size: (64, 64, 1)\n"
     ]
    },
    {
     "data": {
      "text/plain": [
       "<matplotlib.image.AxesImage at 0x242c5866a30>"
      ]
     },
     "execution_count": 183,
     "metadata": {},
     "output_type": "execute_result"
    },
    {
     "data": {
      "image/png": "[encoded data removed]",
      "text/plain": [
       "<Figure size 432x288 with 1 Axes>"
      ]
     },
     "metadata": {
      "needs_background": "light"
     },
     "output_type": "display_data"
    }
   ],
   "source": [
    "N_AGENTS = 100\n",
    "TRACE = np.load('trace.npy')\n",
    "G = nx.Graph()\n",
    "patch = np.copy(TRACE[0:64,0:64,:])\n",
    "STOCHASTIC_SAMPLING = 0\n",
    "DOMAIN_SIZE = [16,16]\n",
    "rng = default_rng()\n",
    "\n",
    "print('Number of agents:', N_AGENTS)\n",
    "print('Patch Size:', patch.shape)\n",
    "plt.imshow(patch)"
   ]
  },
  {
   "cell_type": "code",
   "execution_count": 184,
   "id": "ac772433-ef5f-44db-a297-a131158b905d",
   "metadata": {},
   "outputs": [
    {
     "data": {
      "text/plain": [
       "(64, 64, 1)"
      ]
     },
     "execution_count": 184,
     "metadata": {},
     "output_type": "execute_result"
    }
   ],
   "source": [
    "patch.shape"
   ]
  },
  {
   "cell_type": "code",
   "execution_count": 185,
   "id": "e3e5afbc-416e-4031-aa0c-677fc26f5a21",
   "metadata": {},
   "outputs": [
    {
     "name": "stdout",
     "output_type": "stream",
     "text": [
      "[15.45156777 12.27085912  0.75220186  1.        ]\n"
     ]
    }
   ],
   "source": [
    "agent_field = np.zeros((N_AGENTS, 4))\n",
    "agent_field[:, 0] = rng.uniform(low=0.0, high=DOMAIN_SIZE[0], size=agent_field.shape[0])\n",
    "agent_field[:, 1] = rng.uniform(low=0.0, high=DOMAIN_SIZE[1], size=agent_field.shape[0])\n",
    "agent_field[:, 2] = rng.uniform(low=0.0, high=2.0*np.pi, size=agent_field.shape[0])\n",
    "agent_field[:, 3] = 1.0\n",
    "print(agent_field[0, :])"
   ]
  },
  {
   "cell_type": "code",
   "execution_count": 186,
   "id": "9d1f8c1e-a3d0-4ee5-8359-657779337598",
   "metadata": {},
   "outputs": [],
   "source": [
    "import math\n",
    "import random\n",
    "\n",
    "def world_to_grid_2D(pos_world, size_world, size_grid):\n",
    "    return (pos_world / size_world) * (size_grid)\n",
    "\n",
    "def angle_to_dir_2D(angle):\n",
    "    return np.array([math.cos(float(angle)), math.sin(float(angle))])\n",
    "\n",
    "def custom_mod(a, b):\n",
    "    return a - b * math.floor(a / b)"
   ]
  },
  {
   "cell_type": "code",
   "execution_count": 187,
   "id": "ffa2927f-19f5-4cde-b3e3-1ca7ce259640",
   "metadata": {},
   "outputs": [],
   "source": [
    "## Main simulation & vis loop\n",
    "sense_distance = 1.0\n",
    "sense_angle = 2.5\n",
    "step_size = 0.1\n",
    "attenuation = 0.95\n",
    "weight_multiplier = 0.1\n",
    "steering_rate = 0.5\n",
    "\n",
    "# agent_field.from_numpy(agents)"
   ]
  },
  {
   "cell_type": "code",
   "execution_count": 188,
   "id": "e284eaa5-e12c-4659-8d8c-c44e2bf0f013",
   "metadata": {},
   "outputs": [],
   "source": [
    "# import queue\n",
    "# angle_queue = queue.Queue()\n",
    "# pos_dict = {}\n",
    "# def propagation_step(sense_distance, sense_angle, steering_rate, step_size, weight_multiplier, stochastic_sampling, m):\n",
    "#     k = m\n",
    "#     for agent in range(agent_field.shape[0]):\n",
    "#         pos1, pos2, angle, weight = agent_field[0]\n",
    "#         pos = [pos1, pos2]\n",
    "#         dir_fwd = angle_to_dir_2D(angle)\n",
    "#         angle_mut = angle + (random.random() - 0.5) * sense_angle\n",
    "#         dir_mut = angle_to_dir_2D(angle_mut)\n",
    "        \n",
    "#         trace_fwd = world_to_grid_2D(pos + sense_distance * dir_fwd, np.array(DOMAIN_SIZE), np.array(DOMAIN_SIZE))\n",
    "#         trace_mut = world_to_grid_2D(pos + sense_distance * dir_mut, np.array(DOMAIN_SIZE), np.array(DOMAIN_SIZE))\n",
    "#         deposit_fwd = TRACE[trace_fwd[0].astype(int)][trace_fwd[1].astype(int)][0]\n",
    "#         deposit_mut = TRACE[trace_mut[0].astype(int)][trace_mut[1].astype(int)][0]\n",
    "\n",
    "#         angle_new = 0.0\n",
    "#         if stochastic_sampling:\n",
    "#             angle_new = (angle) if (random.random() < deposit_fwd / (deposit_fwd + deposit_mut)) else (steering_rate * angle_mut + (1.0-steering_rate) * angle)\n",
    "#         else:\n",
    "#             angle_new = (angle) if (deposit_fwd > deposit_mut) else (steering_rate * angle_mut + (1.0-steering_rate) * angle)\n",
    "        \n",
    "#         if(G.number_of_nodes() == 0):\n",
    "#             G.add_node(k)\n",
    "#             angle_queue.put(angle_new)\n",
    "#         else:\n",
    "#             if abs(angle_new - angle_queue.queue[0]) > 0.26:\n",
    "#                 G.add_node(k)\n",
    "#                 G.add_edge(list(G.nodes())[-1], list(G.nodes())[-2])\n",
    "                \n",
    "#                 if(angle_queue.qsize() == 3):\n",
    "#                     angle_queue.get()\n",
    "#                 angle_queue.put(angle_new)\n",
    "                \n",
    "#         pos_dict[agent]=(pos1, pos2)\n",
    "#         dir_new = angle_to_dir_2D(angle_new)\n",
    "#         pos_new = pos + step_size * dir_new\n",
    " \n",
    "#         pos_new[0] = custom_mod(pos_new[0], DOMAIN_SIZE[0])\n",
    "#         pos_new[1] = custom_mod(pos_new[1], DOMAIN_SIZE[1])\n",
    "\n",
    "#         agent_field[0][0] = pos_new[0]\n",
    "#         agent_field[0][1] = pos_new[1]\n",
    "#         agent_field[0][2] = angle_new\n",
    "#         k = k + 1\n",
    "#     m = m + k\n",
    "#     return\n",
    "\n",
    "# for i in range(10):\n",
    "#     propagation_step(sense_distance, sense_angle, steering_rate, step_size, weight_multiplier, STOCHASTIC_SAMPLING, m)"
   ]
  },
  {
   "cell_type": "code",
   "execution_count": 189,
   "id": "829b2bfc-3976-4cf1-9971-7fbd6f8d32df",
   "metadata": {},
   "outputs": [],
   "source": [
    "import queue\n",
    "angle_queue = queue.Queue()\n",
    "pos_dict = {}\n",
    "m = 0\n",
    "\n",
    "for i in range(1):\n",
    "    k = m\n",
    "    for agent in range(agent_field.shape[0]):\n",
    "        pos1, pos2, angle, weight = agent_field[0]\n",
    "        pos = [pos1, pos2]\n",
    "        dir_fwd = angle_to_dir_2D(angle)\n",
    "        angle_mut = angle + (random.random() - 0.5) * sense_angle\n",
    "        dir_mut = angle_to_dir_2D(angle_mut)\n",
    "        \n",
    "        trace_fwd = world_to_grid_2D(pos + sense_distance * dir_fwd, np.array(DOMAIN_SIZE), np.array(DOMAIN_SIZE))\n",
    "        trace_mut = world_to_grid_2D(pos + sense_distance * dir_mut, np.array(DOMAIN_SIZE), np.array(DOMAIN_SIZE))\n",
    "        deposit_fwd = patch[trace_fwd[0].astype(int)][trace_fwd[1].astype(int)][0]\n",
    "        deposit_mut = patch[trace_mut[0].astype(int)][trace_mut[1].astype(int)][0]\n",
    "        \n",
    "        angle_new = 0.0\n",
    "        if STOCHASTIC_SAMPLING:\n",
    "            angle_new = (angle) if (random.random() < deposit_fwd / (deposit_fwd + deposit_mut)) else (steering_rate * angle_mut + (1.0-steering_rate) * angle)\n",
    "        else:\n",
    "            angle_new = (angle) if (deposit_fwd > deposit_mut) else (steering_rate * angle_mut + (1.0-steering_rate) * angle)\n",
    "        \n",
    "        if(G.number_of_nodes() == 0):\n",
    "            G.add_node(k)\n",
    "            angle_queue.put(angle_new)\n",
    "        else:\n",
    "            if abs(angle_new - angle_queue.queue[0]) > 0.26:\n",
    "                G.add_node(k)\n",
    "                G.add_edge(list(G.nodes())[-1], list(G.nodes())[-2])\n",
    "                \n",
    "                if(angle_queue.qsize() == 3):\n",
    "                    angle_queue.get()\n",
    "                angle_queue.put(angle_new)\n",
    "                \n",
    "        pos_dict[k]=(pos1, pos2)\n",
    "        dir_new = angle_to_dir_2D(angle_new)\n",
    "        pos_new = pos + step_size * dir_new\n",
    " \n",
    "        pos_new[0] = custom_mod(pos_new[0], DOMAIN_SIZE[0])\n",
    "        pos_new[1] = custom_mod(pos_new[1], DOMAIN_SIZE[1])\n",
    "\n",
    "        agent_field[0][0] = pos_new[0]\n",
    "        agent_field[0][1] = pos_new[1]\n",
    "        agent_field[0][2] = angle_new\n",
    "        k = k + 1\n",
    "    m = m + k"
   ]
  },
  {
   "cell_type": "code",
   "execution_count": 190,
   "id": "979d8f97-1f33-44bf-a14c-2489d0cae054",
   "metadata": {},
   "outputs": [
    {
     "data": {
      "text/plain": [
       "EdgeView([(0, 1), (1, 6), (6, 7), (7, 8), (8, 9), (9, 10), (10, 11), (11, 12), (12, 21), (21, 22), (22, 23), (23, 33), (33, 34), (34, 35), (35, 45), (45, 46), (46, 47), (47, 48), (48, 49), (49, 50), (50, 59), (59, 60), (60, 61), (61, 64), (64, 65), (65, 66), (66, 67), (67, 70), (70, 71), (71, 72), (72, 75), (75, 76), (76, 77), (77, 88), (88, 97), (97, 98), (98, 99)])"
      ]
     },
     "execution_count": 190,
     "metadata": {},
     "output_type": "execute_result"
    }
   ],
   "source": [
    "G.edges"
   ]
  },
  {
   "cell_type": "code",
   "execution_count": 191,
   "id": "52385396-d444-42ad-8133-9eb70e00af5d",
   "metadata": {},
   "outputs": [
    {
     "data": {
      "image/png": "[encoded data removed]",
      "text/plain": [
       "<Figure size 432x288 with 1 Axes>"
      ]
     },
     "metadata": {},
     "output_type": "display_data"
    }
   ],
   "source": [
    "import matplotlib.pyplot as plt\n",
    "nx.draw(G, pos=pos_dict,\n",
    "        arrowstyle='->', \n",
    "        arrowsize=20, \n",
    "        width=0.5,\n",
    "        with_labels=False, \n",
    "        node_size=10, \n",
    "        node_color='red',\n",
    "        edge_color='blue')\n",
    "plt.savefig(\"graph.png\", dpi=1000)"
   ]
  },
  {
   "cell_type": "code",
   "execution_count": null,
   "id": "562ffdbb-73d2-4fab-b700-01abe0db2672",
   "metadata": {},
   "outputs": [],
   "source": []
  }
 ],
 "metadata": {
  "kernelspec": {
   "display_name": "Python 3",
   "language": "python",
   "name": "python3"
  },
  "language_info": {
   "codemirror_mode": {
    "name": "ipython",
    "version": 3
   },
   "file_extension": ".py",
   "mimetype": "text/x-python",
   "name": "python",
   "nbconvert_exporter": "python",
   "pygments_lexer": "ipython3",
   "version": "3.8.8"
  }
 },
 "nbformat": 4,
 "nbformat_minor": 5
}
